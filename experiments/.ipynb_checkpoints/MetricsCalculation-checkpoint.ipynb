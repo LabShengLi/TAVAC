{
 "cells": [
  {
   "cell_type": "markdown",
   "metadata": {},
   "source": [
    "# TAVAC Score Analysis for Different Datasets\n",
    "\n",
    "## Introduction\n",
    "\n",
    "This Jupyter Notebook is designed to perform an in-depth analysis of TAVAC (Training and Validation Attention Consistency) scores across various datasets. The primary objectives of this notebook are:\n",
    "\n",
    "1. **Calculate TAVAC Scores**: Compute the TAVAC scores for different datasets using pre-defined models.\n",
    "2. **Generate Histograms**: Create histograms to visualize the distribution of TAVAC scores.\n",
    "3. **Model Comparison**: Compare the performance of models categorized as 'good fit' versus 'overfit' based on their TAVAC scores.\n",
    "\n",
    "### Steps Involved:\n",
    "\n",
    "1. **Data Loading**: Import the datasets to be analyzed.\n",
    "2. **TAVAC Calculation**: Apply the TAVAC calculation method to each dataset.\n",
    "3. **Visualization**: Generate histograms to show the distribution of TAVAC scores for each dataset.\n",
    "4. **Comparison Analysis**: Compare the histograms of good fit models against overfit models to identify patterns and differences.\n",
    "\n",
    "By the end of this notebook, we aim to have a comprehensive understanding of how TAVAC scores vary across different datasets and models, and how these variations can indicate model fit quality.\n"
   ]
  },
  {
   "cell_type": "code",
   "execution_count": 3,
   "metadata": {},
   "outputs": [],
   "source": [
    "import numpy as np\n",
    "from PIL import Image\n",
    "import torch\n",
    "from transformers import TrainingArguments, Trainer\n",
    "\n"
   ]
  },
  {
   "cell_type": "code",
   "execution_count": 4,
   "metadata": {},
   "outputs": [],
   "source": [
    "import glob\n",
    "#data_set = 'cifar10' ###epochs:10, 50, 100\n",
    "data_set = 'food101'  ###epochs: 10, 100\n",
    "#data_set = 'cats_vs_dogs'  ###epochs:1000, 5000, \n",
    "#data_set = 'mnist'  ###epochs:1500, 2000\n",
    "\n",
    "#list_of_files = glob.glob(f'{data_set}_validation_img_2stage_e{str(num_epoch)}/*.png')\n",
    "\n"
   ]
  },
  {
   "cell_type": "code",
   "execution_count": 5,
   "metadata": {},
   "outputs": [],
   "source": [
    "diff_corr = []\n",
    "num_epoch = 10\n",
    "for i in range(500):\n",
    "    f1 = f'{data_set}_validation_img_2stage_e{str(num_epoch)}/{i}_test.png'\n",
    "    im_array1 = np.asarray(Image.open(f1).convert('RGB'))\n",
    "    \n",
    "    f2 = f'{data_set}_train_img_e{str(num_epoch)}/{i}_train.png'\n",
    "    im_array2 = np.asarray(Image.open(f2).convert('RGB'))\n",
    "    cor1 = np.corrcoef(im_array1.flatten(), im_array2.flatten())[0,1]\n",
    "    \n",
    "    #print(cor1)\n",
    "    \n",
    "    f1 = f'{data_set}_train_img_2stage_e{str(num_epoch)}/{i}_train.png'\n",
    "    im_array1 = np.asarray(Image.open(f1).convert('RGB'))\n",
    "    \n",
    "    f2 = f'{data_set}_validation_img_e{str(num_epoch)}/{i}_test.png'\n",
    "    im_array2 = np.asarray(Image.open(f2).convert('RGB'))\n",
    "    cor2 = np.corrcoef(im_array1.flatten(), im_array2.flatten())[0,1]\n",
    "    \n",
    "    #print(cor2)\n",
    "    diff_corr.append(cor1)\n",
    "    diff_corr.append(cor2)\n",
    "\n",
    "\n"
   ]
  },
  {
   "cell_type": "code",
   "execution_count": 6,
   "metadata": {},
   "outputs": [],
   "source": [
    "diff_corr_overfit = []\n",
    "num_epoch = 100\n",
    "for i in range(500):\n",
    "    f1 = f'{data_set}_validation_img_2stage_e{str(num_epoch)}/{i}_test.png'\n",
    "    im_array1 = np.asarray(Image.open(f1).convert('RGB'))\n",
    "    \n",
    "    f2 = f'{data_set}_train_img_e{str(num_epoch)}/{i}_train.png'\n",
    "    im_array2 = np.asarray(Image.open(f2).convert('RGB'))\n",
    "    cor1 = np.corrcoef(im_array1.flatten(), im_array2.flatten())[0,1]\n",
    "    \n",
    "    #print(cor1)\n",
    "    \n",
    "    f1 = f'{data_set}_train_img_2stage_e{str(num_epoch)}/{i}_train.png'\n",
    "    im_array1 = np.asarray(Image.open(f1).convert('RGB'))\n",
    "    \n",
    "    f2 = f'{data_set}_validation_img_e{str(num_epoch)}/{i}_test.png'\n",
    "    im_array2 = np.asarray(Image.open(f2).convert('RGB'))\n",
    "    cor2 = np.corrcoef(im_array1.flatten(), im_array2.flatten())[0,1]\n",
    "    \n",
    "    #print(cor2)\n",
    "    diff_corr_overfit.append(cor1)\n",
    "    diff_corr_overfit.append(cor2)\n"
   ]
  },
  {
   "cell_type": "code",
   "execution_count": null,
   "metadata": {},
   "outputs": [],
   "source": []
  },
  {
   "cell_type": "code",
   "execution_count": 7,
   "metadata": {},
   "outputs": [],
   "source": [
    "# diff_corr_overfit100 = []\n",
    "# num_epoch = 3000\n",
    "# for i in range(500):\n",
    "#     f1 = f'{data_set}_validation_img_2stage_e{str(num_epoch)}/{i}_test.png'\n",
    "#     im_array1 = np.asarray(Image.open(f1).convert('RGB'))\n",
    "    \n",
    "#     f2 = f'{data_set}_train_img_e{str(num_epoch)}/{i}_train.png'\n",
    "#     im_array2 = np.asarray(Image.open(f2).convert('RGB'))\n",
    "#     cor1 = np.corrcoef(im_array1.flatten(), im_array2.flatten())[0,1]\n",
    "    \n",
    "#     #print(cor1)\n",
    "    \n",
    "#     f1 = f'{data_set}_train_img_2stage_e{str(num_epoch)}/{i}_train.png'\n",
    "#     im_array1 = np.asarray(Image.open(f1).convert('RGB'))\n",
    "    \n",
    "#     f2 = f'{data_set}_validation_img_e{str(num_epoch)}/{i}_test.png'\n",
    "#     im_array2 = np.asarray(Image.open(f2).convert('RGB'))\n",
    "#     cor2 = np.corrcoef(im_array1.flatten(), im_array2.flatten())[0,1]\n",
    "    \n",
    "#     #print(cor2)\n",
    "#     diff_corr_overfit100.append(cor1)\n",
    "#     diff_corr_overfit100.append(cor2)\n"
   ]
  },
  {
   "cell_type": "code",
   "execution_count": null,
   "metadata": {},
   "outputs": [],
   "source": []
  },
  {
   "cell_type": "code",
   "execution_count": 8,
   "metadata": {},
   "outputs": [],
   "source": [
    "import matplotlib.pyplot as plt\n",
    "font_size = 20\n",
    "\n",
    "fig, ax = plt.subplots()\n",
    "fig.set_size_inches(6,4)\n",
    "plt.hist(diff_corr, alpha = 0.5, label = 'epoch=10')\n",
    "plt.hist(diff_corr_overfit, alpha = 0.5, label = 'epoch=100')\n",
    "#plt.hist(diff_corr_overfit100, alpha = 0.5, label = 'epoch=5000')\n",
    "#plt.hist(diff_corr_overfit500, alpha = 0.5, label = 'epoch=500')\n",
    "\n",
    "plt.legend(loc='upper left', fontsize = font_size*0.8)\n",
    "plt.ylabel('Frequency',fontsize=font_size)\n",
    "plt.xlabel('Correlations',fontsize=font_size)\n",
    "ax.set_title(data_set + ' Correlation distribution vs epoch\\n',fontsize=font_size)\n",
    " \n",
    "# Create names on the x-axis\n",
    "#plt.xticks(x_pos, bars)\n",
    "ax.tick_params(axis='x', labelsize=font_size)\n",
    "ax.tick_params(axis='y', labelsize=font_size)\n",
    "plt.tight_layout()"
   ]
  },
  {
   "cell_type": "code",
   "execution_count": null,
   "metadata": {},
   "outputs": [],
   "source": []
  },
  {
   "cell_type": "code",
   "execution_count": null,
   "metadata": {},
   "outputs": [],
   "source": [
    "######bad focus tavac\n",
    "import glob\n",
    "import numpy as np\n",
    "#data_set = 'cifar10'\n",
    "data_set = 'cats_vs_dogs'\n",
    "num_epoch = 5000 ##100 for cifar10 5000 for catdog\n",
    "\n",
    "list_of_files1 = glob.glob(\"BadFocusImagesBadOnly-\"+data_set+\"/ValidationStage1/*.png\")\n",
    "list_of_files2 = glob.glob(\"BadFocusImagesBadOnly-\"+data_set+\"/ValidationStage2/*.png\")\n",
    "\n",
    "\n",
    "diff_corr_goodfocus = []\n",
    "diff_corr_badfocus = []\n",
    "\n",
    "v_stage1 = []\n",
    "for f in list_of_files1:\n",
    "    ar = f.split('/')\n",
    "    image_id = int(ar[-1].replace('_test.png', ''))\n",
    "    v_stage1.append(image_id)\n",
    "    \n",
    "v_stage2 = []\n",
    "for f in list_of_files2:\n",
    "    ar = f.split('/')\n",
    "    image_id = int(ar[-1].replace('_test.png', ''))\n",
    "    v_stage2.append(image_id)\n",
    "\n",
    "\n",
    "for i in range(500):\n",
    "\n",
    "\n",
    "    f1 = f'{data_set}_validation_img_2stage_e{str(num_epoch)}/{i}_test.png'\n",
    "    im_array1 = np.asarray(Image.open(f1).convert('RGB'))\n",
    "    \n",
    "    f2 = f'{data_set}_train_img_e{str(num_epoch)}/{i}_train.png'\n",
    "    im_array2 = np.asarray(Image.open(f2).convert('RGB'))\n",
    "    cor1 = np.corrcoef(im_array1.flatten(), im_array2.flatten())[0,1]\n",
    "    \n",
    "    #print(cor1)\n",
    "    \n",
    "    f1 = f'{data_set}_train_img_2stage_e{str(num_epoch)}/{i}_train.png'\n",
    "    im_array1 = np.asarray(Image.open(f1).convert('RGB'))\n",
    "    \n",
    "    f2 = f'{data_set}_validation_img_e{str(num_epoch)}/{i}_test.png'\n",
    "    im_array2 = np.asarray(Image.open(f2).convert('RGB'))\n",
    "    cor2 = np.corrcoef(im_array1.flatten(), im_array2.flatten())[0,1]\n",
    "    \n",
    "    #print(cor2)\n",
    "\n",
    "    #if (i in v_stage2) and (i in WrongPred2[0]):\n",
    "    if (i in v_stage2):\n",
    "        if cor1 > 0.8:\n",
    "            print('vs2')\n",
    "            print(i)\n",
    "        diff_corr_badfocus.append(cor1)\n",
    "    else:\n",
    "    #elif (i not in WrongPred2[0]):\n",
    "        diff_corr_goodfocus.append(cor1)\n",
    "        \n",
    "    #if (i in v_stage1) and (i in WrongPred1[0]):\n",
    "    if (i in v_stage1):\n",
    "        if cor2 > 0.8:\n",
    "            print('vs1')\n",
    "            print(i)\n",
    "        diff_corr_badfocus.append(cor2)\n",
    "    else:\n",
    "    #elif (i not in WrongPred1[0]):\n",
    "        diff_corr_goodfocus.append(cor2)\n",
    "\n",
    "\n",
    "import matplotlib.pyplot as plt\n",
    "font_size = 20\n",
    "\n",
    "fig, ax = plt.subplots()\n",
    "fig.set_size_inches(6,4)\n",
    "plt.hist(diff_corr_badfocus, alpha = 0.5, label = 'bad focus')\n",
    "plt.hist(diff_corr_goodfocus, alpha = 0.5, label = 'good focus')\n",
    "#plt.hist(diff_corr_overfit100, alpha = 0.5, label = 'epoch=5000')\n",
    "#plt.hist(diff_corr_overfit500, alpha = 0.5, label = 'epoch=500')\n",
    "\n",
    "plt.legend(loc='upper left', fontsize = font_size*0.8)\n",
    "plt.ylabel('Frequency',fontsize=font_size)\n",
    "plt.xlabel('Correlations',fontsize=font_size)\n",
    "ax.set_title(data_set + ' Correlation distribution vs focus\\n',fontsize=font_size)\n",
    " \n",
    "# Create names on the x-axis\n",
    "#plt.xticks(x_pos, bars)\n",
    "ax.tick_params(axis='x', labelsize=font_size)\n",
    "ax.tick_params(axis='y', labelsize=font_size)\n",
    "plt.tight_layout()"
   ]
  },
  {
   "cell_type": "code",
   "execution_count": null,
   "metadata": {},
   "outputs": [],
   "source": []
  },
  {
   "cell_type": "code",
   "execution_count": null,
   "metadata": {},
   "outputs": [],
   "source": []
  },
  {
   "cell_type": "code",
   "execution_count": 15,
   "metadata": {},
   "outputs": [
    {
     "name": "stdout",
     "output_type": "stream",
     "text": [
      "Two-sample t-test: s = -2.366, p = 0.01818\n"
     ]
    }
   ],
   "source": [
    "import scipy\n",
    "\n",
    "from scipy import stats\n",
    "\n",
    "# Two-sample t-test\n",
    "statistic, pvalue = stats.ttest_ind(diff_corr_badfocus,diff_corr_goodfocus)\n",
    "\n",
    "print(f'Two-sample t-test: s = {statistic:5.3f}, p = {pvalue:5.5f}')\n"
   ]
  },
  {
   "cell_type": "code",
   "execution_count": 16,
   "metadata": {},
   "outputs": [
    {
     "name": "stderr",
     "output_type": "stream",
     "text": [
      "/tmp/ipykernel_116166/2399250258.py:11: FutureWarning: The frame.append method is deprecated and will be removed from pandas in a future version. Use pandas.concat instead.\n",
      "  df = df_bad.append(df_good)\n"
     ]
    },
    {
     "data": {
      "text/plain": [
       "(array([0, 1]), [Text(0, 0, 'Bad'), Text(1, 0, 'Good')])"
      ]
     },
     "execution_count": 16,
     "metadata": {},
     "output_type": "execute_result"
    },
    {
     "data": {
      "image/png": "[encoded data removed]",
      "text/plain": [
       "<Figure size 500x500 with 1 Axes>"
      ]
     },
     "metadata": {},
     "output_type": "display_data"
    }
   ],
   "source": [
    "import seaborn as sns\n",
    "import matplotlib.pyplot as plt\n",
    "import pandas as pd\n",
    "\n",
    "df_bad = pd.DataFrame(diff_corr_badfocus)\n",
    "df_bad['Group'] = 'Bad'\n",
    "\n",
    "df_good = pd.DataFrame(diff_corr_goodfocus)\n",
    "df_good['Group'] = 'Good'\n",
    "\n",
    "df = df_bad.append(df_good)\n",
    "df.columns = ['TAVAC','Group']\n",
    "\n",
    "fig, ax = plt.subplots()\n",
    "fig.set_size_inches(5, 5)\n",
    "my_pal = {\"Good\": \"#d1e231\", \"Bad\": \"blue\"}\n",
    "sns.boxplot(x=\"Group\",y=\"TAVAC\",data=df,ax=ax,width=0.5, showfliers = False, palette=my_pal)\n",
    "#sns.violinplot(x=\"Group\",y=\"TAVAC\",data=df,ax=ax,width=0.5, showfliers = False, palette=my_pal)\n",
    "\n",
    "plt.ylabel('TAVAC',fontsize=font_size)\n",
    "plt.title('Comparion Good vs Bad focus\\n'+data_set,fontsize=font_size)\n",
    "plt.xticks(fontsize=font_size)"
   ]
  },
  {
   "cell_type": "code",
   "execution_count": 35,
   "metadata": {},
   "outputs": [
    {
     "name": "stdout",
     "output_type": "stream",
     "text": [
      "/projects/li-lab/Yue/SpatialAnalysis/py/DylanCode/BadFocusImages-cifar10/ValidationStage1/*\n"
     ]
    }
   ],
   "source": [
    "print(\"/projects/li-lab/Yue/SpatialAnalysis/py/DylanCode/BadFocusImages-\"+data_set+\"/ValidationStage1/*\")"
   ]
  },
  {
   "cell_type": "code",
   "execution_count": null,
   "metadata": {},
   "outputs": [],
   "source": []
  },
  {
   "cell_type": "code",
   "execution_count": 53,
   "metadata": {},
   "outputs": [
    {
     "name": "stderr",
     "output_type": "stream",
     "text": [
      "Found cached dataset food101 (/home/c-zhaoy/.cache/huggingface/datasets/food101/default/0.0.0/7cebe41a80fb2da3f08fcbef769c8874073a86346f7fb96dc0847d4dfc318295)\n",
      "\n",
      "100%|██████████| 1/1 [00:00<00:00, 181.71it/s]\n"
     ]
    },
    {
     "ename": "ValueError",
     "evalue": "not enough values to unpack (expected 2, got 1)",
     "output_type": "error",
     "traceback": [
      "\u001b[0;31m---------------------------------------------------------------------------\u001b[0m",
      "\u001b[0;31mValueError\u001b[0m                                Traceback (most recent call last)",
      "\u001b[0;32m/tmp/ipykernel_169131/1856369320.py\u001b[0m in \u001b[0;36m<module>\u001b[0;34m\u001b[0m\n\u001b[1;32m      9\u001b[0m \u001b[0mdata_set\u001b[0m \u001b[0;34m=\u001b[0m \u001b[0;34m'food101'\u001b[0m\u001b[0;34m\u001b[0m\u001b[0;34m\u001b[0m\u001b[0m\n\u001b[1;32m     10\u001b[0m \u001b[0mnum_epoch\u001b[0m \u001b[0;34m=\u001b[0m \u001b[0;36m100\u001b[0m\u001b[0;34m\u001b[0m\u001b[0;34m\u001b[0m\u001b[0m\n\u001b[0;32m---> 11\u001b[0;31m \u001b[0mtrain_ds\u001b[0m\u001b[0;34m,\u001b[0m \u001b[0mtest_ds\u001b[0m \u001b[0;34m=\u001b[0m \u001b[0mload_dataset\u001b[0m\u001b[0;34m(\u001b[0m\u001b[0mdata_set\u001b[0m\u001b[0;34m,\u001b[0m \u001b[0msplit\u001b[0m\u001b[0;34m=\u001b[0m\u001b[0;34m[\u001b[0m\u001b[0;34m'train[:1000]'\u001b[0m\u001b[0;34m]\u001b[0m\u001b[0;34m)\u001b[0m\u001b[0;34m\u001b[0m\u001b[0;34m\u001b[0m\u001b[0m\n\u001b[0m\u001b[1;32m     12\u001b[0m \u001b[0;31m# load_dataset fuction is used to load the cifar10 dataset.\u001b[0m\u001b[0;34m\u001b[0m\u001b[0;34m\u001b[0m\u001b[0m\n\u001b[1;32m     13\u001b[0m \u001b[0;31m# The data set is split into two subsets: 'train' and 'test'.\u001b[0m\u001b[0;34m\u001b[0m\u001b[0;34m\u001b[0m\u001b[0m\n",
      "\u001b[0;31mValueError\u001b[0m: not enough values to unpack (expected 2, got 1)"
     ]
    }
   ],
   "source": [
    "#########prediction accuracy vs TAVAC\n",
    "from datasets import load_dataset\n",
    "from sklearn.metrics import accuracy_score\n",
    "\n",
    "# imports the load_dataset function from the datasets module. Datasets\n",
    "# module is a powerful tool for loading and working with various datasets\n",
    "# that are commonly used in machine learning and natural language processing tasks.\n",
    "\n",
    "data_set = 'food101'\n",
    "num_epoch = 100\n",
    "\n",
    "if data_set == 'cifar10':\n",
    "    train_ds, test_ds = load_dataset(data_set, split=['train[:1000]', 'test[:100]'])\n",
    "    \n",
    "if data_set == 'food101':\n",
    "    \n",
    "# load_dataset fuction is used to load the cifar10 dataset. \n",
    "# The data set is split into two subsets: 'train' and 'test'. \n",
    "\n",
    "splits = train_ds.train_test_split(test_size=0.5, seed=1024)\n",
    "train_ds = splits['train']\n",
    "val_ds = splits['test']\n",
    "\n",
    "from torchvision.transforms import (CenterCrop, \n",
    "                                    Compose, \n",
    "                                    Normalize, \n",
    "                                    RandomHorizontalFlip,\n",
    "                                    RandomResizedCrop, \n",
    "                                    Resize, \n",
    "                                    ToTensor)\n",
    "\n",
    "from transformers import ViTImageProcessor\n",
    "# the line imports the ViTImageProcessor from the transformers library. \n",
    "# The transformers library provides state-of-the-art pretrained models and utilities\n",
    "# for natural language processing and computer vision tasks \n",
    "\n",
    "processor = ViTImageProcessor.from_pretrained(\"google/vit-base-patch16-224-in21k\")\n",
    "image_mean, image_std = processor.image_mean, processor.image_std\n",
    "size = processor.size[\"height\"]\n",
    "\n",
    "normalize = Normalize(mean=image_mean, std=image_std)\n",
    "_train_transforms = Compose(\n",
    "        [\n",
    "            RandomResizedCrop(size),\n",
    "            RandomHorizontalFlip(),\n",
    "            ToTensor(),\n",
    "            normalize,\n",
    "        ]\n",
    "    )\n",
    "\n",
    "_val_transforms = Compose(\n",
    "        [\n",
    "            Resize(size),\n",
    "            CenterCrop(size),\n",
    "            ToTensor(),\n",
    "            normalize,\n",
    "        ]\n",
    "    )\n",
    "\n",
    "def train_transforms(examples):\n",
    "    examples['pixel_values'] = [_train_transforms(image.convert(\"RGB\")) for image in examples['img']]\n",
    "    return examples\n",
    "\n",
    "def val_transforms(examples):\n",
    "    examples['pixel_values'] = [_val_transforms(image.convert(\"RGB\")) for image in examples['img']]\n",
    "    return examples\n",
    "\n",
    "# Set the transforms\n",
    "train_ds.set_transform(train_transforms)\n",
    "# sets the transformation on the train_ds dataset to be train_transforms, \n",
    "# the function defined earlier\n",
    "\n",
    "val_ds.set_transform(val_transforms)\n",
    "# it sets the transformation for the validation dataset to be val_transforms\n",
    "# This means that when retrieving examples from the validation dataset, \n",
    "# val_transforms functionn will be applied to preprocess the images\n",
    "\n",
    "test_ds.set_transform(val_transforms)\n",
    "# val_transfomrs function is applied to preprocess images in test dataset \n",
    "\n",
    "\n",
    "# By setting the transformations for each dataset, \n",
    "# you ensure that the appropriate preprocessing steps are automatically applied to the images\n",
    "# from the respective datasets during training, validation, or testing. \n",
    "# These transformations could include resizing, cropping, flipping, and normalization, \n",
    "# as defined in the train_transforms and val_transforms functions.\n",
    "\n",
    "import os\n",
    "num_epoch = 100\n",
    "#os.environ[\"PYTORCH_CUDA_ALLOC_CONF\"] = \"max_split_size_mb:1024\"\n",
    "#os.environ[\"PYTORCH_CUDA_ALLOC_CONF\"] = \"1024\"\n",
    "torch.cuda.empty_cache()\n",
    "#print(torch.cuda.memory_summary(device='cuda:0', abbreviated=False))\n",
    "#os.environ['CUDA_VISIBLE_DEVICES']=''\n",
    "\n",
    "if torch.cuda.is_available(): \n",
    "    dev = \"cuda:0\" \n",
    "else: \n",
    "    dev = \"cpu\"\n",
    "\n",
    "device = torch.device(dev)\n",
    "# These lines import the necessary classes, 'TrainingArguments' and 'Trainer',\n",
    "# from the 'transformers' library. \n",
    "# These classes provide functionalities from configuring and executing the \n",
    "# training process for machine learning models.\n",
    "\n",
    "metric_name = \"accuracy\"\n",
    "\n",
    "# variable is set 'accuracy'\n",
    "# This variable represents the name of the metric that will be used\n",
    "# to evaluate performance of the model during training and determine \n",
    "# the best model based on this metric. \n",
    "\n",
    "\n",
    "from torch.utils.data import DataLoader\n",
    "import torch\n",
    "\n",
    "def collate_fn(examples):\n",
    "    pixel_values = torch.stack([example[\"pixel_values\"] for example in examples])\n",
    "    labels = torch.tensor([example[\"label\"] for example in examples])\n",
    "    return {\"pixel_values\": pixel_values, \"labels\": labels}\n",
    "def compute_metrics(eval_pred):\n",
    "    predictions, labels = eval_pred\n",
    "    predictions = np.argmax(predictions, axis=1)\n",
    "    return dict(accuracy=accuracy_score(predictions, labels))\n",
    "\n",
    "args = TrainingArguments(\n",
    "    f'{data_set}_checkpoints_stage2',\n",
    "    save_strategy=\"no\",\n",
    "    evaluation_strategy=\"no\",\n",
    "    learning_rate=1e-3,\n",
    "#     2e-5\n",
    "    #0.0001\n",
    "    per_device_train_batch_size=128,\n",
    "#     10\n",
    "    #32\n",
    "    per_device_eval_batch_size=4,\n",
    "    num_train_epochs=num_epoch,\n",
    "    weight_decay=0,\n",
    "#     it was 0.01\n",
    "    #0 FOR OVERFIIY\n",
    "    load_best_model_at_end=False,\n",
    "    metric_for_best_model=metric_name,\n",
    "    logging_dir='logs',\n",
    "    remove_unused_columns=False,\n",
    "    seed = 42,\n",
    "    adam_beta1 = 0.9,\n",
    "    adam_beta2 = 0.9,\n",
    "    lr_scheduler_type = 'cosine',\n",
    "    max_grad_norm = 1,\n",
    "    logging_strategy = 'epoch'\n",
    ")\n",
    "\n",
    "\n",
    "#device = 'cpu'\n",
    "model_file = \"../../saved_models/ViT_pretrained_\"+data_set+\"_e\"+str(num_epoch)+\"_stage1.pt\"\n",
    "#model_file = \"ViT_umap_Cluster_c7_C1D1_ep10k_\"+region+'.h5'\n",
    "\n",
    "model = torch.load(model_file, map_location=device)\n",
    "model.eval()\n",
    "\n",
    "import torch\n",
    "# this code imports the torch library \n",
    "\n",
    "trainer = Trainer(\n",
    "    model,\n",
    "    args,\n",
    "    train_dataset=train_ds,\n",
    "    eval_dataset=val_ds,\n",
    "    data_collator=collate_fn,\n",
    "    compute_metrics=compute_metrics,\n",
    "    tokenizer=processor,\n",
    "    \n",
    ")"
   ]
  },
  {
   "cell_type": "code",
   "execution_count": 14,
   "metadata": {},
   "outputs": [
    {
     "name": "stderr",
     "output_type": "stream",
     "text": [
      "/projects/compsci/Yue/Anaconda3/envs/torch_env/lib/python3.9/site-packages/torch/nn/parallel/_functions.py:68: UserWarning: Was asked to gather along dimension 0, but all input tensors were scalars; will instead unsqueeze and return a vector.\n",
      "  warnings.warn('Was asked to gather along dimension 0, but all '\n"
     ]
    },
    {
     "data": {
      "text/html": [],
      "text/plain": [
       "<IPython.core.display.HTML object>"
      ]
     },
     "metadata": {},
     "output_type": "display_data"
    }
   ],
   "source": [
    "outputs = trainer.predict(val_ds)\n"
   ]
  },
  {
   "cell_type": "code",
   "execution_count": 16,
   "metadata": {},
   "outputs": [],
   "source": [
    "pred = outputs.predictions.argmax(1)\n",
    "\n",
    "ifCorrect1 = (pred == outputs.label_ids)\n",
    "WrongPred1 = np.where(~ifCorrect1)"
   ]
  },
  {
   "cell_type": "code",
   "execution_count": 17,
   "metadata": {},
   "outputs": [
    {
     "data": {
      "text/plain": [
       "0.312"
      ]
     },
     "execution_count": 17,
     "metadata": {},
     "output_type": "execute_result"
    }
   ],
   "source": [
    "len(WrongPred1[0])/500"
   ]
  },
  {
   "cell_type": "code",
   "execution_count": 21,
   "metadata": {},
   "outputs": [
    {
     "name": "stderr",
     "output_type": "stream",
     "text": [
      "/projects/compsci/Yue/Anaconda3/envs/torch_env/lib/python3.9/site-packages/torch/nn/parallel/_functions.py:68: UserWarning: Was asked to gather along dimension 0, but all input tensors were scalars; will instead unsqueeze and return a vector.\n",
      "  warnings.warn('Was asked to gather along dimension 0, but all '\n"
     ]
    },
    {
     "data": {
      "text/html": [],
      "text/plain": [
       "<IPython.core.display.HTML object>"
      ]
     },
     "metadata": {},
     "output_type": "display_data"
    }
   ],
   "source": [
    "#device = 'cpu'\n",
    "model_file = \"../../saved_models/ViT_pretrained_\"+data_set+\"_e\"+str(num_epoch)+\"_stage2.pt\"\n",
    "#model_file = \"ViT_umap_Cluster_c7_C1D1_ep10k_\"+region+'.h5'\n",
    "\n",
    "model = torch.load(model_file, map_location=device)\n",
    "model.eval()\n",
    "\n",
    "import torch\n",
    "# this code imports the torch library \n",
    "\n",
    "trainer = Trainer(\n",
    "    model,\n",
    "    args,\n",
    "    train_dataset=train_ds,\n",
    "    eval_dataset=val_ds,\n",
    "    data_collator=collate_fn,\n",
    "    compute_metrics=compute_metrics,\n",
    "    tokenizer=processor,\n",
    "    \n",
    ")\n",
    "outputs = trainer.predict(train_ds)\n",
    "pred = np.argmax(outputs.predictions, axis=1)\n",
    "ifCorrect2 = (pred == outputs.label_ids)\n",
    "WrongPred2 = np.where(~ifCorrect2)"
   ]
  },
  {
   "cell_type": "code",
   "execution_count": 22,
   "metadata": {},
   "outputs": [
    {
     "data": {
      "text/plain": [
       "0.338"
      ]
     },
     "execution_count": 22,
     "metadata": {},
     "output_type": "execute_result"
    }
   ],
   "source": [
    "len(WrongPred2[0])/500"
   ]
  },
  {
   "cell_type": "code",
   "execution_count": 26,
   "metadata": {},
   "outputs": [],
   "source": [
    "\n",
    "\n",
    "diff_corr1 = [] #model stage 1\n",
    "diff_corr2 = [] #model stage 2\n",
    "num_epoch = 100\n",
    "for i in range(500):\n",
    "    f1 = f'{data_set}_validation_img_2stage_e{str(num_epoch)}/{i}_test.png'\n",
    "    im_array1 = np.asarray(Image.open(f1).convert('RGB'))\n",
    "    \n",
    "    f2 = f'{data_set}_train_img_e{str(num_epoch)}/{i}_train.png'\n",
    "    im_array2 = np.asarray(Image.open(f2).convert('RGB'))\n",
    "    cor1 = np.corrcoef(im_array1.flatten(), im_array2.flatten())[0,1]\n",
    "    \n",
    "    #print(cor1)\n",
    "    \n",
    "    f1 = f'{data_set}_train_img_2stage_e{str(num_epoch)}/{i}_train.png'\n",
    "    im_array1 = np.asarray(Image.open(f1).convert('RGB'))\n",
    "    \n",
    "    f2 = f'{data_set}_validation_img_e{str(num_epoch)}/{i}_test.png'\n",
    "    im_array2 = np.asarray(Image.open(f2).convert('RGB'))\n",
    "    cor2 = np.corrcoef(im_array1.flatten(), im_array2.flatten())[0,1]\n",
    "    \n",
    "    #print(cor2)\n",
    "    diff_corr2.append(cor1)\n",
    "    diff_corr1.append(cor2)\n"
   ]
  },
  {
   "cell_type": "code",
   "execution_count": null,
   "metadata": {},
   "outputs": [],
   "source": []
  },
  {
   "cell_type": "code",
   "execution_count": 44,
   "metadata": {},
   "outputs": [
    {
     "name": "stderr",
     "output_type": "stream",
     "text": [
      "/tmp/ipykernel_169131/1725388961.py:11: SettingWithCopyWarning: \n",
      "A value is trying to be set on a copy of a slice from a DataFrame\n",
      "\n",
      "See the caveats in the documentation: https://pandas.pydata.org/pandas-docs/stable/user_guide/indexing.html#returning-a-view-versus-a-copy\n",
      "  df2['Group'][df2['Group'] == 0] = 'Wrong'\n",
      "/tmp/ipykernel_169131/1725388961.py:12: SettingWithCopyWarning: \n",
      "A value is trying to be set on a copy of a slice from a DataFrame\n",
      "\n",
      "See the caveats in the documentation: https://pandas.pydata.org/pandas-docs/stable/user_guide/indexing.html#returning-a-view-versus-a-copy\n",
      "  df2['Group'][df2['Group'] == 1] = 'Correct'\n"
     ]
    },
    {
     "data": {
      "text/plain": [
       "Text(0.5, 1.0, 'Prediction vs TAVAC')"
      ]
     },
     "execution_count": 44,
     "metadata": {},
     "output_type": "execute_result"
    },
    {
     "data": {
      "image/png": "[encoded data removed]",
      "text/plain": [
       "<Figure size 432x288 with 1 Axes>"
      ]
     },
     "metadata": {
      "needs_background": "light"
     },
     "output_type": "display_data"
    },
    {
     "data": {
      "image/png": "[encoded data removed]",
      "text/plain": [
       "<Figure size 360x360 with 1 Axes>"
      ]
     },
     "metadata": {
      "needs_background": "light"
     },
     "output_type": "display_data"
    }
   ],
   "source": [
    "import matplotlib.pyplot as plt\n",
    "\n",
    "plt.scatter(ifCorrect2, diff_corr2)\n",
    "\n",
    "import seaborn as sns\n",
    "import matplotlib.pyplot as plt\n",
    "import pandas as pd\n",
    "\n",
    "df2 = pd.DataFrame(diff_corr2)\n",
    "df2['Group'] = ifCorrect2\n",
    "df2['Group'][df2['Group'] == 0] = 'Wrong'\n",
    "df2['Group'][df2['Group'] == 1] = 'Correct'\n",
    "df2.columns = ['TAVAC','Group']\n",
    "\n",
    "# fig, ax = plt.subplots()\n",
    "# fig.set_size_inches(5, 5)\n",
    "# my_pal = {\"Wrong\": \"blue\", \"Correct\": \"#d1e231\"}\n",
    "# sns.boxplot(x=\"Group\",y=\"TAVAC\",data=df2,ax=ax,width=0.5, showfliers = False, palette=my_pal)\n",
    "# #sns.violinplot(x=\"Group\",y=\"TAVAC\",data=df,ax=ax,width=0.5, showfliers = False, palette=my_pal)\n",
    "\n",
    "# plt.ylabel('TAVAC',fontsize=font_size)\n",
    "# plt.xticks(fontsize=font_size)\n",
    "# plt.title('Prediction vs TAVAC', fontsize=font_size)"
   ]
  },
  {
   "cell_type": "code",
   "execution_count": 28,
   "metadata": {},
   "outputs": [
    {
     "name": "stdout",
     "output_type": "stream",
     "text": [
      "Two-sample t-test: s = -2.062, p = 0.03970\n"
     ]
    }
   ],
   "source": [
    "import scipy\n",
    "\n",
    "from scipy import stats\n",
    "\n",
    "# Two-sample t-test\n",
    "statistic, pvalue = stats.ttest_ind(df['TAVAC'][df['Group'] == 'Wrong'],df['TAVAC'][df['Group'] == 'Correct'])\n",
    "\n",
    "print(f'Two-sample t-test: s = {statistic:5.3f}, p = {pvalue:5.5f}')"
   ]
  },
  {
   "cell_type": "code",
   "execution_count": null,
   "metadata": {},
   "outputs": [],
   "source": []
  },
  {
   "cell_type": "code",
   "execution_count": 45,
   "metadata": {},
   "outputs": [
    {
     "name": "stderr",
     "output_type": "stream",
     "text": [
      "/tmp/ipykernel_169131/940968029.py:11: SettingWithCopyWarning: \n",
      "A value is trying to be set on a copy of a slice from a DataFrame\n",
      "\n",
      "See the caveats in the documentation: https://pandas.pydata.org/pandas-docs/stable/user_guide/indexing.html#returning-a-view-versus-a-copy\n",
      "  df1['Group'][df1['Group'] == 0] = 'Wrong'\n",
      "/tmp/ipykernel_169131/940968029.py:12: SettingWithCopyWarning: \n",
      "A value is trying to be set on a copy of a slice from a DataFrame\n",
      "\n",
      "See the caveats in the documentation: https://pandas.pydata.org/pandas-docs/stable/user_guide/indexing.html#returning-a-view-versus-a-copy\n",
      "  df1['Group'][df1['Group'] == 1] = 'Correct'\n"
     ]
    },
    {
     "data": {
      "text/plain": [
       "(array([0, 1]), [Text(0, 0, 'Wrong'), Text(1, 0, 'Correct')])"
      ]
     },
     "execution_count": 45,
     "metadata": {},
     "output_type": "execute_result"
    },
    {
     "data": {
      "image/png": "[encoded data removed]",
      "text/plain": [
       "<Figure size 432x288 with 1 Axes>"
      ]
     },
     "metadata": {
      "needs_background": "light"
     },
     "output_type": "display_data"
    },
    {
     "data": {
      "image/png": "[encoded data removed]",
      "text/plain": [
       "<Figure size 360x360 with 1 Axes>"
      ]
     },
     "metadata": {
      "needs_background": "light"
     },
     "output_type": "display_data"
    }
   ],
   "source": [
    "import matplotlib.pyplot as plt\n",
    "\n",
    "plt.scatter(ifCorrect1, diff_corr1)\n",
    "\n",
    "import seaborn as sns\n",
    "import matplotlib.pyplot as plt\n",
    "import pandas as pd\n",
    "\n",
    "df1 = pd.DataFrame(diff_corr1)\n",
    "df1['Group'] = ifCorrect1\n",
    "df1['Group'][df1['Group'] == 0] = 'Wrong'\n",
    "df1['Group'][df1['Group'] == 1] = 'Correct'\n",
    "df1.columns = ['TAVAC','Group']\n",
    "\n",
    "df = df1.append(df2)\n",
    "fig, ax = plt.subplots()\n",
    "fig.set_size_inches(5, 5)\n",
    "my_pal = {\"Wrong\": \"blue\", \"Correct\": \"#d1e231\"}\n",
    "sns.boxplot(x=\"Group\",y=\"TAVAC\",data=df,ax=ax,width=0.5, showfliers = False, palette=my_pal)\n",
    "#sns.violinplot(x=\"Group\",y=\"TAVAC\",data=df,ax=ax,width=0.5, showfliers = False, palette=my_pal)\n",
    "\n",
    "plt.ylabel('TAVAC',fontsize=font_size)\n",
    "plt.title(data_set+' prediction vs TAVAC',fontsize=font_size)\n",
    "plt.xticks(fontsize=font_size)"
   ]
  },
  {
   "cell_type": "code",
   "execution_count": 43,
   "metadata": {},
   "outputs": [
    {
     "data": {
      "text/plain": [
       "(1000, 2)"
      ]
     },
     "execution_count": 43,
     "metadata": {},
     "output_type": "execute_result"
    }
   ],
   "source": [
    "df.shape"
   ]
  },
  {
   "cell_type": "code",
   "execution_count": 42,
   "metadata": {},
   "outputs": [
    {
     "name": "stdout",
     "output_type": "stream",
     "text": [
      "Two-sample t-test: s = -2.253, p = 0.02450\n"
     ]
    }
   ],
   "source": [
    "import scipy\n",
    "\n",
    "from scipy import stats\n",
    "\n",
    "# Two-sample t-test\n",
    "statistic, pvalue = stats.ttest_ind(df['TAVAC'][df['Group'] == 'Wrong'],df['TAVAC'][df['Group'] == 'Correct'])\n",
    "\n",
    "print(f'Two-sample t-test: s = {statistic:5.3f}, p = {pvalue:5.5f}')"
   ]
  },
  {
   "cell_type": "code",
   "execution_count": 31,
   "metadata": {},
   "outputs": [
    {
     "data": {
      "text/plain": [
       "{0: 'airplane',\n",
       " 1: 'automobile',\n",
       " 2: 'bird',\n",
       " 3: 'cat',\n",
       " 4: 'deer',\n",
       " 5: 'dog',\n",
       " 6: 'frog',\n",
       " 7: 'horse',\n",
       " 8: 'ship',\n",
       " 9: 'truck'}"
      ]
     },
     "execution_count": 31,
     "metadata": {},
     "output_type": "execute_result"
    }
   ],
   "source": [
    "id2label = {id:label for id, label in enumerate(train_ds.features['label'].names)}\n",
    "# id2label is dictionnary. Enumerate fuction is used to iterate over the names of the class labels \n",
    "# in the 'label' feature of the'train_ds' dataset. For each label, the corresponding ID(index) is\n",
    "# assigned as a key, and the labe itself is assiged as the value.\n",
    "\n",
    "label2id = {label:id for id,label in id2label.items()}\n",
    "# reverses the order of each key-value pair in the dictionary \n",
    "\n",
    "id2label"
   ]
  },
  {
   "cell_type": "code",
   "execution_count": null,
   "metadata": {},
   "outputs": [],
   "source": []
  }
 ],
 "metadata": {
  "kernelspec": {
   "display_name": "Python 3",
   "language": "python",
   "name": "python3"
  },
  "language_info": {
   "codemirror_mode": {
    "name": "ipython",
    "version": 3
   },
   "file_extension": ".py",
   "mimetype": "text/x-python",
   "name": "python",
   "nbconvert_exporter": "python",
   "pygments_lexer": "ipython3",
   "version": "3.8.5"
  }
 },
 "nbformat": 4,
 "nbformat_minor": 5
}
